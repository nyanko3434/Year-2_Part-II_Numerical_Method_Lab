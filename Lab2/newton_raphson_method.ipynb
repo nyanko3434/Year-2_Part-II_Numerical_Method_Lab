{
 "cells": [
  {
   "cell_type": "code",
   "execution_count": 7,
   "id": "999f9ae8",
   "metadata": {},
   "outputs": [],
   "source": [
    "import numpy as np\n",
    "import matplotlib.pyplot as plt\n",
    "import math "
   ]
  },
  {
   "cell_type": "code",
   "execution_count": 2,
   "id": "01934abc",
   "metadata": {},
   "outputs": [],
   "source": [
    "def newton_raphson(f, df, x0, tol=1e-7, max_iter=100):\n",
    "    x = x0\n",
    "    for i in range(max_iter):\n",
    "        fx = f(x)\n",
    "        dfx = df(x)\n",
    "        if abs(fx) < tol:\n",
    "            return x\n",
    "        if dfx == 0:\n",
    "            raise ValueError(\"Derivative is zero. No solution found.\")\n",
    "        x -= fx / dfx\n",
    "    raise ValueError(\"Maximum iterations reached. No solution found.\")"
   ]
  },
  {
   "cell_type": "code",
   "execution_count": 5,
   "id": "c07c07e6",
   "metadata": {},
   "outputs": [],
   "source": [
    "def func_one(x):\n",
    "    return x**3 - 2*x**2 + 4*x - 8\n",
    "def dfunc_one(x):\n",
    "    return 3*x**2 - 4*x + 4"
   ]
  },
  {
   "cell_type": "code",
   "execution_count": 6,
   "id": "c1b7f3fe",
   "metadata": {},
   "outputs": [
    {
     "name": "stdout",
     "output_type": "stream",
     "text": [
      "Root found: 2.0\n"
     ]
    }
   ],
   "source": [
    "#Example usage\n",
    "x0 = 2.0\n",
    "try:\n",
    "    root = newton_raphson(func_one, dfunc_one, x0)\n",
    "    print(f\"Root found: {root}\")\n",
    "except ValueError as e:\n",
    "    print(e)"
   ]
  },
  {
   "cell_type": "code",
   "execution_count": 9,
   "id": "97260550",
   "metadata": {},
   "outputs": [],
   "source": [
    "def func_two(x):\n",
    "    return (math.e**-x) - (x*math.e**-x)\n",
    "def dfunc_two(x):\n",
    "    return (x*math.e**-x) - 2*math.e**-x"
   ]
  },
  {
   "cell_type": "code",
   "execution_count": 11,
   "id": "a80704e0",
   "metadata": {},
   "outputs": [
    {
     "name": "stdout",
     "output_type": "stream",
     "text": [
      "Root found: 1\n"
     ]
    }
   ],
   "source": [
    "#Example usage\n",
    "x0 = 1\n",
    "try:\n",
    "    root = newton_raphson(func_two, dfunc_two, x0)\n",
    "    print(f\"Root found: {root}\")\n",
    "except ValueError as e:\n",
    "    print(e)"
   ]
  },
  {
   "cell_type": "code",
   "execution_count": 12,
   "id": "6d781d99",
   "metadata": {},
   "outputs": [],
   "source": [
    "def func_three(x):\n",
    "    return x*math.sin(x)+math.cos(x)\n",
    "def dfunc_three(x):\n",
    "    return x*math.cos(x)-math.sin(x)"
   ]
  },
  {
   "cell_type": "code",
   "execution_count": 13,
   "id": "e084a05a",
   "metadata": {},
   "outputs": [
    {
     "name": "stdout",
     "output_type": "stream",
     "text": [
      "Root found: 6.121250483324508\n"
     ]
    }
   ],
   "source": [
    "# Example usage\n",
    "x0 = 1\n",
    "try:\n",
    "    root = newton_raphson(func_three, dfunc_three, x0)\n",
    "    print(f\"Root found: {root}\")\n",
    "except ValueError as e:\n",
    "    print(e)"
   ]
  },
  {
   "cell_type": "code",
   "execution_count": null,
   "id": "6d1b7cd3",
   "metadata": {},
   "outputs": [],
   "source": [
    "\n"
   ]
  }
 ],
 "metadata": {
  "kernelspec": {
   "display_name": ".venv",
   "language": "python",
   "name": "python3"
  },
  "language_info": {
   "codemirror_mode": {
    "name": "ipython",
    "version": 3
   },
   "file_extension": ".py",
   "mimetype": "text/x-python",
   "name": "python",
   "nbconvert_exporter": "python",
   "pygments_lexer": "ipython3",
   "version": "3.13.3"
  }
 },
 "nbformat": 4,
 "nbformat_minor": 5
}
