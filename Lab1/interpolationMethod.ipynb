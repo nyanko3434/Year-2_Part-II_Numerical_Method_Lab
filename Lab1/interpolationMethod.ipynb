{
 "cells": [
  {
   "cell_type": "code",
   "execution_count": null,
   "id": "cefef454",
   "metadata": {},
   "outputs": [],
   "source": [
    "import numpy as np\n",
    "import pandas as pd"
   ]
  },
  {
   "cell_type": "code",
   "execution_count": 18,
   "id": "06218f6d",
   "metadata": {},
   "outputs": [],
   "source": [
    "#Newton's forward propagation method\n",
    "def newtons_forward(x, y, x0):\n",
    "    n = len(x)\n",
    "    if n != len(y):\n",
    "        raise ValueError(\"x and y must have the same length\")\n",
    "    \n",
    "    # Creating a divided difference table\n",
    "    diff_table = np.zeros((n, n))\n",
    "    diff_table[:, 0] = y\n",
    "    \n",
    "    for j in range(1, n):\n",
    "        for i in range(n - j):\n",
    "            diff_table[i][j] = (diff_table[i + 1][j - 1] - diff_table[i][j - 1]) / (x[i + j] - x[i])\n",
    "    \n",
    "    #Display the divided difference table\n",
    "    diff_table_df = pd.DataFrame(diff_table, columns=[f\"delta^{j} y\" for j in range(n)], index=x)\n",
    "    print(\"Divided Difference Table:\", diff_table_df, sep='\\n')\n",
    "    \n",
    "    # Calculate the value at x0 using Newton's forward formula\n",
    "    result = diff_table[0][0]\n",
    "    p = (x0 - x[0]) / (x[1] - x[0])\n",
    "    product_term = 1.0\n",
    "    fact = 1.0\n",
    "    # for i in range(1, n):\n",
    "    #     result += diff_table[0][i] * product_term\n",
    "    #     product_term *= p - (i - 1)  # p - (i-1) corresponds to (x0 - x[0]) / (x[1] - x[0]) - (i-1)\n",
    "    #     # fact *= i  # This line is not needed for the forward method\n",
    "    for j in range(1, n):\n",
    "        product_term *= p - j - 1\n",
    "        fact *= i\n",
    "        result += diff_table[0][j] * product_term #/ fact\n",
    "\n",
    "    \n",
    "    # for j in range(1, n):\n",
    "    #     product_term *= (x0 - x[j - 1])\n",
    "    #     result += product_term * diff_table[0][j]\n",
    "    \n",
    "    \n",
    "    return result"
   ]
  },
  {
   "cell_type": "code",
   "execution_count": 25,
   "id": "632edf4b",
   "metadata": {},
   "outputs": [
    {
     "name": "stdout",
     "output_type": "stream",
     "text": [
      "Divided Difference Table:\n",
      "   delta^0 y  delta^1 y  delta^2 y  delta^3 y  delta^4 y\n",
      "1        1.0        3.0        1.0        0.0        0.0\n",
      "2        4.0        5.0        1.0        0.0        0.0\n",
      "3        9.0        7.0        1.0        0.0        0.0\n",
      "4       16.0        9.0        0.0        0.0        0.0\n",
      "5       25.0        0.0        0.0        0.0        0.0\n",
      "Interpolated value at x0 = 15: 169.0\n"
     ]
    }
   ],
   "source": [
    "# Example usage:\n",
    "x = np.array([1,2,3,4,5])\n",
    "y = np.array([1,4,9,16,25])\n",
    "x0 = 15\n",
    "interpolated_y = newtons_forward(x, y, x0)\n",
    "print(f\"Interpolated value at x0 = {x0}: {interpolated_y}\")\n"
   ]
  },
  {
   "cell_type": "code",
   "execution_count": null,
   "id": "b1b10549",
   "metadata": {},
   "outputs": [],
   "source": []
  }
 ],
 "metadata": {
  "kernelspec": {
   "display_name": ".venv",
   "language": "python",
   "name": "python3"
  },
  "language_info": {
   "codemirror_mode": {
    "name": "ipython",
    "version": 3
   },
   "file_extension": ".py",
   "mimetype": "text/x-python",
   "name": "python",
   "nbconvert_exporter": "python",
   "pygments_lexer": "ipython3",
   "version": "3.13.3"
  }
 },
 "nbformat": 4,
 "nbformat_minor": 5
}
