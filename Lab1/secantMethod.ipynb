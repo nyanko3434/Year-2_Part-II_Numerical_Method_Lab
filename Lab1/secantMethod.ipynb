{
 "cells": [
  {
   "cell_type": "code",
   "execution_count": null,
   "id": "448fbda6",
   "metadata": {},
   "outputs": [],
   "source": [
    "import numpy as np\n",
    "import pandas as pd"
   ]
  },
  {
   "cell_type": "code",
   "execution_count": 3,
   "id": "5d3e8745",
   "metadata": {},
   "outputs": [],
   "source": [
    "#Secant method \n",
    "def secant_method(func, x0, x1, tol=1e-5, max_iter=100):\n",
    "    for i in range(max_iter):\n",
    "        f_x0 = func(x0)\n",
    "        f_x1 = func(x1)\n",
    "        if abs(f_x1 - f_x0) < tol:\n",
    "            raise ValueError(\"Function values are too close to each other.\")\n",
    "        x2 = x1 - f_x1 * (x1 - x0) / (f_x1 - f_x0)\n",
    "        if abs(x2 - x1) < tol:\n",
    "            return x2\n",
    "        x0, x1 = x1, x2\n",
    "    raise ValueError(\"Maximum iterations reached without convergence.\")"
   ]
  },
  {
   "cell_type": "code",
   "execution_count": 5,
   "id": "82514440",
   "metadata": {},
   "outputs": [],
   "source": [
    "def func_one(x):\n",
    "    return x**2 - 4"
   ]
  },
  {
   "cell_type": "code",
   "execution_count": 6,
   "id": "b990e547",
   "metadata": {},
   "outputs": [],
   "source": [
    "def func_two(x):\n",
    "    return x**3 - x - 2"
   ]
  },
  {
   "cell_type": "code",
   "execution_count": 15,
   "id": "54aa8ea1",
   "metadata": {},
   "outputs": [],
   "source": [
    "def func_three(x):\n",
    "    return x**3 - 3*x - 2"
   ]
  },
  {
   "cell_type": "code",
   "execution_count": 9,
   "id": "23e391c8",
   "metadata": {},
   "outputs": [
    {
     "name": "stdout",
     "output_type": "stream",
     "text": [
      "The root found is: 2.0\n"
     ]
    }
   ],
   "source": [
    "# Example usage:\n",
    "function_variable = func_one\n",
    "x0 = 1.0\n",
    "x1 = 2.0\n",
    "try:\n",
    "    root = secant_method(function_variable, x0, x1)\n",
    "    print(f\"The root found is: {root}\")\n",
    "except ValueError as e:\n",
    "    print(f\"Error: {e}\")"
   ]
  },
  {
   "cell_type": "code",
   "execution_count": 10,
   "id": "b4066803",
   "metadata": {},
   "outputs": [
    {
     "name": "stdout",
     "output_type": "stream",
     "text": [
      "The root found is: 1.5213797079848717\n"
     ]
    }
   ],
   "source": [
    "function_variable = func_two\n",
    "x0 = 1.0\n",
    "x1 = 2.0\n",
    "try:\n",
    "    root = secant_method(function_variable, x0, x1)\n",
    "    print(f\"The root found is: {root}\") \n",
    "except ValueError as e:\n",
    "    print(f\"Error: {e}\")"
   ]
  },
  {
   "cell_type": "code",
   "execution_count": 16,
   "id": "9ed8d003",
   "metadata": {},
   "outputs": [
    {
     "name": "stdout",
     "output_type": "stream",
     "text": [
      "The root found is: 2.0000000028486373\n"
     ]
    }
   ],
   "source": [
    "function_variable = func_three\n",
    "x0 = -20.0\n",
    "x1 = 10.0\n",
    "try:\n",
    "    root = secant_method(function_variable, x0, x1)\n",
    "    print(f\"The root found is: {root}\")\n",
    "except ValueError as e:\n",
    "    print(f\"Error: {e}\")"
   ]
  }
 ],
 "metadata": {
  "kernelspec": {
   "display_name": ".venv",
   "language": "python",
   "name": "python3"
  },
  "language_info": {
   "codemirror_mode": {
    "name": "ipython",
    "version": 3
   },
   "file_extension": ".py",
   "mimetype": "text/x-python",
   "name": "python",
   "nbconvert_exporter": "python",
   "pygments_lexer": "ipython3",
   "version": "3.13.3"
  }
 },
 "nbformat": 4,
 "nbformat_minor": 5
}
