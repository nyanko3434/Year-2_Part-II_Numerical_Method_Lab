{
 "cells": [
  {
   "cell_type": "code",
   "execution_count": null,
   "id": "53c08d7a",
   "metadata": {},
   "outputs": [],
   "source": [
    "import math\n",
    "import numpy as np\n",
    "import matplotlib.pyplot as plt"
   ]
  },
  {
   "cell_type": "code",
   "execution_count": null,
   "id": "182c8878",
   "metadata": {},
   "outputs": [],
   "source": [
    "def visualize_lagrange_interpolation(x, y, x0, result):\n",
    "    x_range = np.linspace(min(x), max(x), 500)\n",
    "    y_interp = []\n",
    "    h = x[1] - x[0]\n",
    "    n = len(x)\n",
    "    for xi in x_range:\n",
    "        pi = (xi - x[0]) / h\n",
    "        yi = y[0]\n",
    "\n",
    "    \n",
    "    plt.figure(figsize=(8, 5))\n",
    "    plt.plot(x_range, y_interp, label=\"Interpolated Curve\", color='blue')\n",
    "    plt.plot(x, y, 'o', label=\"Original Points\", color='black')\n",
    "    plt.plot(x0, result, 'ro', label=f\"Interpolated Value at x0 = {x0}\")\n",
    "    plt.axvline(x0, color='r', linestyle='--', linewidth=0.8)\n",
    "    plt.title(\"Newton's Forward Interpolation\")\n",
    "    plt.xlabel(\"x\")\n",
    "    plt.ylabel(\"y\")\n",
    "    plt.legend()\n",
    "    plt.grid(True)\n",
    "    plt.tight_layout()\n",
    "    plt.show()"
   ]
  },
  {
   "cell_type": "code",
   "execution_count": 5,
   "id": "ceb69a94",
   "metadata": {},
   "outputs": [],
   "source": [
    "#Lagrange Interpolation  is a polynomial interpolation method used to estimate a function that passes through a given set of points.\n",
    "def lagrange_interpolation(x_points, y_points, x, visualize = True):\n",
    "    n = len(x_points)\n",
    "    result = 0\n",
    "\n",
    "    for i in range(n):\n",
    "        term = y_points[i]\n",
    "        for j in range(n):\n",
    "            if i != j:\n",
    "                term *= (x - x_points[j]) / (x_points[i] - x_points[j])\n",
    "        result += term\n",
    "\n",
    "    return result"
   ]
  },
  {
   "cell_type": "code",
   "execution_count": null,
   "id": "9dcd4b18",
   "metadata": {},
   "outputs": [],
   "source": []
  }
 ],
 "metadata": {
  "kernelspec": {
   "display_name": ".venv",
   "language": "python",
   "name": "python3"
  },
  "language_info": {
   "codemirror_mode": {
    "name": "ipython",
    "version": 3
   },
   "file_extension": ".py",
   "mimetype": "text/x-python",
   "name": "python",
   "nbconvert_exporter": "python",
   "pygments_lexer": "ipython3",
   "version": "3.13.3"
  }
 },
 "nbformat": 4,
 "nbformat_minor": 5
}
