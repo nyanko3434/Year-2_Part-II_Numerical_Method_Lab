{
 "cells": [
  {
   "cell_type": "code",
   "execution_count": 5,
   "id": "cefef454",
   "metadata": {},
   "outputs": [],
   "source": [
    "import numpy as np\n",
    "import pandas as pd"
   ]
  },
  {
   "cell_type": "code",
   "execution_count": null,
   "id": "06218f6d",
   "metadata": {},
   "outputs": [],
   "source": [
    "# #Newton's forward propagation method\n",
    "# def newtons_forward(x, y, x0):\n",
    "#     n = len(x)\n",
    "#     if n != len(y):\n",
    "#         raise ValueError(\"x and y must have the same length\")\n",
    "    \n",
    "#     # Creating a divided difference table\n",
    "#     diff_table = np.zeros((n, n))\n",
    "#     diff_table[:, 0] = y\n",
    "    \n",
    "#     for j in range(1, n):\n",
    "#         for i in range(n - j):\n",
    "#             diff_table[i][j] = (diff_table[i + 1][j - 1] - diff_table[i][j - 1]) / (x[i + j] - x[i])\n",
    "    \n",
    "#     #Display the divided difference table\n",
    "#     diff_table_df = pd.DataFrame(diff_table, columns=[f\"delta^{j} y\" for j in range(n)], index=x)\n",
    "#     print(\"Divided Difference Table:\", diff_table_df, sep='\\n')\n",
    "    \n",
    "#     # Calculate the value at x0 using Newton's forward formula\n",
    "#     result = diff_table[0][0]\n",
    "#     p = (x0 - x[0]) / (x[1] - x[0])\n",
    "#     product_term = 1.0\n",
    "#     fact = 1.0\n",
    "#     for j in range(1, n):\n",
    "#         product_term *= p - j - 1\n",
    "#         fact *= j\n",
    "#         result += diff_table[0][j] * product_term / fact\n",
    "    \n",
    "#     return result"
   ]
  },
  {
   "cell_type": "code",
   "execution_count": 11,
   "id": "a622ed6d",
   "metadata": {},
   "outputs": [],
   "source": [
    "def newtons_forward(x, y, x0):\n",
    "    n = len(x)\n",
    "    if n != len(y):\n",
    "        raise ValueError(\"x and y must have the same length\")\n",
    "    \n",
    "    h = x[1] - x[0]\n",
    "    if not all(np.isclose(x[i+1] - x[i], h) for i in range(n - 1)):\n",
    "        raise ValueError(\"x values must be equally spaced for Newton's forward method\")\n",
    "    \n",
    "    # Creating a forward difference table\n",
    "    diff_table = np.zeros((n, n))\n",
    "    diff_table[:, 0] = y\n",
    "    \n",
    "    for j in range(1, n):\n",
    "        for i in range(n - j):\n",
    "            diff_table[i][j] = diff_table[i + 1][j - 1] - diff_table[i][j - 1]\n",
    "    \n",
    "    # Display the difference table\n",
    "    diff_table_df = pd.DataFrame(diff_table, columns=[f\"Δ^{j}y\" for j in range(n)], index=x)\n",
    "    print(\"Forward Difference Table:\", diff_table_df, sep='\\n')\n",
    "    \n",
    "    # Compute p\n",
    "    p = (x0 - x[0]) / h\n",
    "    \n",
    "    # Compute interpolated value\n",
    "    result = y[0]\n",
    "    product_term = 1.0\n",
    "    factorial = 1.0\n",
    "    \n",
    "    for j in range(1, n):\n",
    "        product_term *= (p - (j - 1))\n",
    "        factorial *= j\n",
    "        result += (product_term * diff_table[0][j]) / factorial\n",
    "    \n",
    "    return result"
   ]
  },
  {
   "cell_type": "code",
   "execution_count": 12,
   "id": "632edf4b",
   "metadata": {},
   "outputs": [
    {
     "name": "stdout",
     "output_type": "stream",
     "text": [
      "Forward Difference Table:\n",
      "   Δ^0y  Δ^1y  Δ^2y  Δ^3y  Δ^4y\n",
      "1   1.0   3.0   2.0   0.0   0.0\n",
      "2   4.0   5.0   2.0   0.0   0.0\n",
      "3   9.0   7.0   2.0   0.0   0.0\n",
      "4  16.0   9.0   0.0   0.0   0.0\n",
      "5  25.0   0.0   0.0   0.0   0.0\n",
      "Interpolated value at x0 = 6: 36.0\n"
     ]
    }
   ],
   "source": [
    "# Example usage:\n",
    "x = np.array([1,2,3,4,5])\n",
    "y = np.array([1,4,9,16,25])\n",
    "x0 = 6\n",
    "interpolated_y = newtons_forward(x, y, x0)\n",
    "print(f\"Interpolated value at x0 = {x0}: {interpolated_y}\")\n"
   ]
  },
  {
   "cell_type": "code",
   "execution_count": null,
   "id": "b1b10549",
   "metadata": {},
   "outputs": [],
   "source": []
  }
 ],
 "metadata": {
  "kernelspec": {
   "display_name": ".venv",
   "language": "python",
   "name": "python3"
  },
  "language_info": {
   "codemirror_mode": {
    "name": "ipython",
    "version": 3
   },
   "file_extension": ".py",
   "mimetype": "text/x-python",
   "name": "python",
   "nbconvert_exporter": "python",
   "pygments_lexer": "ipython3",
   "version": "3.13.3"
  }
 },
 "nbformat": 4,
 "nbformat_minor": 5
}
